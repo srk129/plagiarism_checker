{
  "nbformat": 4,
  "nbformat_minor": 0,
  "metadata": {
    "colab": {
      "name": "120_123_127_129_EDA_IA2.ipynb",
      "provenance": [],
      "collapsed_sections": []
    },
    "kernelspec": {
      "name": "python3",
      "display_name": "Python 3"
    },
    "language_info": {
      "name": "python"
    }
  },
  "cells": [
    {
      "cell_type": "markdown",
      "metadata": {
        "id": "sEVPC80yuXHL"
      },
      "source": [
        "# **Plagiarism Detection Checker - Application of Levenshtein Distance.**\n",
        "# **Done By:**\n",
        "\n",
        "**1. DEV VORA – 1814120**\n",
        "\n",
        "**2. JAINAM ZOBALIYA – 1814123**\n",
        "\n",
        "**3. VAIBHAVI KUNDLE – 1814127**\n",
        "\n",
        "**4. SHREYA KULKARNI – 1814129**"
      ]
    },
    {
      "cell_type": "markdown",
      "metadata": {
        "id": "_crYofoXvVEW"
      },
      "source": [
        "## Firstly, We have defined a function which will calculate the levenshtein distance of the Test and Source sentences."
      ]
    },
    {
      "cell_type": "code",
      "metadata": {
        "id": "KPMWcmNZIpHD"
      },
      "source": [
        "def leven_distance(s1, s2):\n",
        "  m=len(s1)+1\n",
        "  n=len(s2)+1\n",
        "  mat = {}\n",
        "  for i in range(m): \n",
        "    mat[i,0]=i\n",
        "  for j in range(n): \n",
        "    mat[0,j]=j\n",
        "  #print(tbl)\n",
        "  for i in range(1, m):\n",
        "    for j in range(1, n):\n",
        "      if s1[i-1] == s2[j-1]:\n",
        "        cost = 0 \n",
        "      else:\n",
        "        cost = 2\n",
        "      mat[i,j] = min(mat[i, j-1]+1, mat[i-1, j]+1, mat[i-1,j-1]+cost)\n",
        "  return mat[i,j]"
      ],
      "execution_count": null,
      "outputs": []
    },
    {
      "cell_type": "markdown",
      "metadata": {
        "id": "Rp6ZAgPNwPhq"
      },
      "source": [
        "## Before calculation of levenshtein distance , we will be removing the stopwords as a step for pre-processing the sentences."
      ]
    },
    {
      "cell_type": "code",
      "metadata": {
        "id": "aBajuhs6dmhv"
      },
      "source": [
        "stopwords = ['i', 'me', 'my', 'myself', 'we', 'our', 'ours', 'ourselves', 'you', \"you're\", \"you've\", \"you'll\", \"you'd\", 'your', 'yours', 'yourself', 'yourselves', 'he', 'him', 'his', 'himself', 'she', \"she's\", 'her', 'hers', 'herself', 'it', \"it's\", 'its', 'itself', 'they', 'them', 'their', 'theirs', 'themselves', 'what', 'which', 'who', 'whom', 'this', 'that', \"that'll\", 'these', 'those', 'am', 'is', 'are', 'was', 'were', 'be', 'been', 'being', 'have', 'has', 'had', 'having', 'do', 'does', 'did', 'doing', 'a', 'an', 'the', 'and', 'but', 'if', 'or', 'because', 'as', 'until', 'while', 'of', 'at', 'by', 'for', 'with', 'about', 'against', 'between', 'into', 'through', 'during', 'before', 'after', 'above', 'below', 'to', 'from', 'up', 'down', 'in', 'out', 'on', 'off', 'over', 'under', 'again', 'further', 'then', 'once', 'here', 'there', 'when', 'where', 'why', 'how', 'all', 'any', 'both', 'each', 'few', 'more', 'most', 'other', 'some', 'such', 'no', 'nor', 'not', 'only', 'own', 'same', 'so', 'than', 'too', 'very', 's', 't', 'can', 'will', 'just', 'don', \"don't\", 'should', \"should've\", 'now', 'd', 'll', 'm', 'o', 're', 've', 'y', 'ain', 'aren', \"aren't\", 'couldn', \"couldn't\", 'didn', \"didn't\", 'doesn', \"doesn't\", 'hadn', \"hadn't\", 'hasn', \"hasn't\", 'haven', \"haven't\", 'isn', \"isn't\", 'ma', 'mightn', \"mightn't\", 'mustn', \"mustn't\", 'needn', \"needn't\", 'shan', \"shan't\", 'shouldn', \"shouldn't\", 'wasn', \"wasn't\", 'weren', \"weren't\", 'won', \"won't\", 'wouldn', \"wouldn't\"]"
      ],
      "execution_count": null,
      "outputs": []
    },
    {
      "cell_type": "code",
      "metadata": {
        "id": "jL9RfiAJeKYs"
      },
      "source": [
        "def rem_stop_words(line,stopwords):\n",
        "  #convert line to lowercase, split wordwise\n",
        "  line_tokens = line.lower().split()\n",
        "  #make a list for the word not in the stopword list\n",
        "  tokens_without_sw = [word for word in line_tokens if not word in stopwords]\n",
        "  new_line = \" \".join(tokens_without_sw)\n",
        "  return new_line"
      ],
      "execution_count": null,
      "outputs": []
    },
    {
      "cell_type": "markdown",
      "metadata": {
        "id": "JC2MSsJdvzHg"
      },
      "source": [
        "## Here we have defined a function which will split the sentence line by line.\n",
        "## We will be calculating the plagarism for each line. Accordingly the plagarism percentage will be calculated.\n",
        "## This step can also be referred to as the tokenisation of sentences."
      ]
    },
    {
      "cell_type": "code",
      "metadata": {
        "id": "u-ysEtNSZQUn"
      },
      "source": [
        "def para_split(line):\n",
        "  line_split = line.split(\". \")\n",
        "  #print(line_split)\n",
        "  return line_split"
      ],
      "execution_count": null,
      "outputs": []
    },
    {
      "cell_type": "markdown",
      "metadata": {
        "id": "qFLmIhZBG_bR"
      },
      "source": [
        "# Here we define the code to covert the results to a pdf file.\n",
        "# The font size,color and style is defined for the pdf file."
      ]
    },
    {
      "cell_type": "code",
      "metadata": {
        "colab": {
          "base_uri": "https://localhost:8080/"
        },
        "id": "7DZCyN9n_x9b",
        "outputId": "6dca1300-cd1e-4371-a46c-df2d7430551b"
      },
      "source": [
        "!pip install fpdf\n",
        "from fpdf import FPDF\n",
        "from google.colab import files\n",
        "result =\"\"\n",
        "plagArr = []\n",
        "def makePDF(fileName):\n",
        "  f = open(fileName, \"r\")\n",
        "  pdf = FPDF()\n",
        "  pdf.set_right_margin(100.0)\n",
        "  pdf.page_no()\n",
        "  pdf.set_auto_page_break(True)\n",
        "  pdf.add_page()\n",
        "  pdf.set_font(\"Times\", \"B\" ,size = 30)\n",
        "  pdf.cell(200, 10, txt = \"***** Plagiarism Report *****\", ln = 1, align = 'C')\n",
        "  #set font for the body\n",
        "  pdf.set_font(\"Times\", size = 12)\n",
        "  pdf.cell(200, 10, txt =\"Note: Plagiarised Sentences are colored in red.\", ln = 1, align = 'C')\n",
        "  # effective_page_width = pdf.w - 3*pdf.l_margin\n",
        "  for x in f:\n",
        "      if x in plagArr:\n",
        "        #set color for the plagiarised text\n",
        "        pdf.set_text_color(255, 0, 0)\n",
        "      if x == result:\n",
        "        #set font size for result\n",
        "        pdf.set_font(\"Times\", \"B\" ,size = 18)\n",
        "      pdf.multi_cell(200, 10, txt = x)\n",
        "      pdf.set_text_color(0, 0, 0)\n",
        "  plagArr.clear()\n",
        "  pdf.output(\"Results.pdf\")\n",
        "  # files.download(fileName+'.pdf')"
      ],
      "execution_count": null,
      "outputs": [
        {
          "output_type": "stream",
          "text": [
            "Collecting fpdf\n",
            "  Downloading https://files.pythonhosted.org/packages/37/c6/608a9e6c172bf9124aa687ec8b9f0e8e5d697d59a5f4fad0e2d5ec2a7556/fpdf-1.7.2.tar.gz\n",
            "Building wheels for collected packages: fpdf\n",
            "  Building wheel for fpdf (setup.py) ... \u001b[?25l\u001b[?25hdone\n",
            "  Created wheel for fpdf: filename=fpdf-1.7.2-py2.py3-none-any.whl size=40722 sha256=a945cbbf8fe2da312688ffea7bedd1be2768d5b87c9cdf812d363e687deca417\n",
            "  Stored in directory: /root/.cache/pip/wheels/9a/e9/77/4554ff5c99bc3f487c8d69620d8c41d99d54e9c54ab20ef4c9\n",
            "Successfully built fpdf\n",
            "Installing collected packages: fpdf\n",
            "Successfully installed fpdf-1.7.2\n"
          ],
          "name": "stdout"
        }
      ]
    },
    {
      "cell_type": "markdown",
      "metadata": {
        "id": "e-aDGvM-xanL"
      },
      "source": [
        "## We will now be calling all the functions defined above for the pre-processing of the sentences. After which we will be calculating the levenshtein distance.\n",
        "## Here, we are calculating the similarity by subtracting the ratio of Levenshtein distance and maximum length from the two strings from 1.We then multiply this value by 100 to get the similarity percentage.\n",
        "## If this calculated similarity percentage is greater than 50% we consider the line as plagiarised.\n",
        "## The number of sentences plagiarised is updated everytime the condition for the same is satisfied.\n",
        "## According to the plagiarised number of lines, the plagiarism percentage is calculated."
      ]
    },
    {
      "cell_type": "code",
      "metadata": {
        "id": "Ieq63HeW2Xhj"
      },
      "source": [
        "def plagiarism_checker(Test,Source):\n",
        "  sentence = \"\"\n",
        "  sentence_1 = \"\"\n",
        "  sentence_2 = \"\"\n",
        "  s1_1 = para_split(Test)\n",
        "  for x in range(len(s1_1)):\n",
        "    sentence_1 = sentence_1 +s1_1[x]\n",
        "    if s1_1[x][-1] !=\".\":\n",
        "      sentence_1 = sentence_1 + \".\"\n",
        "    sentence_1 = sentence_1 + \"\\n\"\n",
        "  sentence_1 = \"\\n\"+ sentence_1\n",
        "  sentence = sentence_1 + \"\\n\"\n",
        "  count = 1\n",
        "  plag_count = 0\n",
        "  TestArr = []\n",
        "  SourceArr = []\n",
        "  new_Test = rem_stop_words(Test,stopwords)\n",
        "  new_Source = rem_stop_words(Source,stopwords)\n",
        "  for s in para_split(new_Test) :\n",
        "    TestArr.append(s)\n",
        "  for s in para_split(new_Source) :\n",
        "    SourceArr.append(s)\n",
        "  sentence2 = \"\"\n",
        "  for s1,s2 in zip(TestArr,SourceArr) :\n",
        "    ldist = leven_distance(s1,s2) \n",
        "    maxlen = max(len(s1),len(s2))\n",
        "    print()\n",
        "    print(\"s1 is: \",s1)\n",
        "    print(\"s2 is: \",s2)\n",
        "    print(\"Leven: \", ldist)\n",
        "    print(\"Max Len: \", maxlen)\n",
        "    percentage_similarity = (1- (ldist/maxlen)) * 100\n",
        "    # print(\"PS: \",percentage_similarity)\n",
        "    if percentage_similarity > 50 :\n",
        "      s1New = s1_1[count-1]\n",
        "      s1New = s1New + \".\\n\"\n",
        "      plagArr.append(s1New)\n",
        "      print(\"Sentence {} is plagiarised\".format(count))\n",
        "      plag_count = plag_count+1\n",
        "    #sentences count  \n",
        "    count = count+1\n",
        "  global result\n",
        "  if plag_count == 0:\n",
        "    s4 = \"The document is 100% unique\"\n",
        "    sentence3 = \"\"\n",
        "    sentence3 = sentence3 + s4 \n",
        "    result = sentence3 + \"\\n\"\n",
        "    print(\"The document is 100% unique\")\n",
        "  else:\n",
        "    per = (plag_count/len(SourceArr)*100)\n",
        "    s5 = \"The document has been detected with a Plagiarised percentage of: \"\n",
        "    sentence3 = \"\"\n",
        "    sentence3 = sentence3 + s5 + str(per)+\"%\"\n",
        "    result = sentence3 +\"\\n\"\n",
        "    print(\"The document has {} % of plagiarism detected\".format((per)))\n",
        "  sentence = sentence + sentence3 + \"\\n\"\n",
        "  return sentence"
      ],
      "execution_count": null,
      "outputs": []
    },
    {
      "cell_type": "code",
      "metadata": {
        "id": "UNmorBnfB_u3"
      },
      "source": [
        "import os.path\n",
        "from os import path\n",
        "def menu():\n",
        "  print(\"********WELCOME TO PLAGIARISM DETECTION TOOL**********\\n\")\n",
        "  if (path.exists('Results.pdf')):\n",
        "    !rm Results.pdf\n",
        "  choice = int(input(\"\"\"\n",
        "                      1: Sentence plagiarism checker\n",
        "                      2: Document plagiarism checker\n",
        "                      3: Download plagiarism report and Quit\n",
        "                      4: Quit!\n",
        "                      Please enter your choice: \"\"\"))\n",
        "  if choice == 1:\n",
        "    source = str(input(\"Enter the sentence to be checked: \"))\n",
        "    test = str(input(\"Enter the sentence for comparision: \"))\n",
        "    sentence = plagiarism_checker(source,test)\n",
        "    # write a txt file with the contents\n",
        "    with open('Results.txt', 'w') as writefile:\n",
        "        writefile.write(sentence)\n",
        "    menu()\n",
        "  elif choice == 2:\n",
        "    print(\"Upload the first file:\\n\")\n",
        "    from google.colab import files\n",
        "    uploaded = files.upload()\n",
        "    filename1 = list(uploaded.keys())\n",
        "    for file in filename1:\n",
        "        source = uploaded[file].decode(\"utf-8\")\n",
        "    print(\"Upload the second file:\\n\")\n",
        "    from google.colab import files\n",
        "    uploaded = files.upload()\n",
        "    filename2 = list(uploaded.keys())\n",
        "    for file in filename2:\n",
        "        test = uploaded[file].decode(\"utf-8\")\n",
        "    # to avoid conversion errors.\n",
        "    source.replace(\"-\",\" \")\n",
        "    test.replace(\"-\",\" \")\n",
        "    sentence = plagiarism_checker(source,test)\n",
        "    # write a txt file with the contents\n",
        "    with open('Results.txt', 'w') as writefile:\n",
        "      writefile.write(sentence)\n",
        "    menu()\n",
        "  elif choice == 3 :\n",
        "    from google.colab import files\n",
        "    makePDF(\"Results.txt\")\n",
        "    files.download('Results.pdf')\n",
        "  elif choice == 4 :\n",
        "    print(\"THANK YOU\")\n",
        "  else:\n",
        "      print(\"You must only select either 1 2 3 or 4\")\n",
        "      menu()"
      ],
      "execution_count": null,
      "outputs": []
    },
    {
      "cell_type": "code",
      "metadata": {
        "id": "vRfI-ZwbF8K8"
      },
      "source": [
        "Test = \"The First sentence is about Python. The Second: about Django. You can learn Python,Django and Data Analysis here.\"\n",
        "Source = \"The first is differenta. This second sentence is different. The third sentence is also very different.\"\n",
        "Source2 = \"The Initial sentence is not about Java. This second sentence is different. You can learn everything about anything here.\"\n",
        "Source3 = \"The Initial sentence is about Python. The Second: about Flask. You can learn Python,Django and Data manipulation here.\""
      ],
      "execution_count": null,
      "outputs": []
    },
    {
      "cell_type": "markdown",
      "metadata": {
        "id": "HoLvAyMGy2qK"
      },
      "source": [
        "# **CASE 1:**\n",
        "## First we will be testing same sentences against each other.\n",
        "## This should result in a 100% plagarism."
      ]
    },
    {
      "cell_type": "code",
      "metadata": {
        "colab": {
          "base_uri": "https://localhost:8080/"
        },
        "id": "U1qRi9V-aayq",
        "outputId": "a7f7815e-c613-453a-924c-376464cc723c"
      },
      "source": [
        "menu()"
      ],
      "execution_count": null,
      "outputs": [
        {
          "output_type": "stream",
          "text": [
            "********WELCOME TO PLAGIARISM DETECTION TOOL**********\n",
            "\n",
            "\n",
            "                      1: Sentence plagiarism checker\n",
            "                      2: Document plagiarism checker\n",
            "                      3: Download plagiarism report and Quit\n",
            "                      4: Quit!\n",
            "                      Please enter your choice: 1\n",
            "Enter the sentence to be checked: The First sentence is about Python. The Second: about Django. You can learn Python,Django and Data Analysis here.\n",
            "Enter the sentence for comparision: The first is differenta. This second sentence is different. The third sentence is also very different.\n",
            "\n",
            "s1 is:  first sentence python\n",
            "s2 is:  first differenta\n",
            "Leven:  17\n",
            "Max Len:  21\n",
            "\n",
            "s1 is:  second: django\n",
            "s2 is:  second sentence different\n",
            "Leven:  21\n",
            "Max Len:  25\n",
            "\n",
            "s1 is:  learn python,django data analysis here.\n",
            "s2 is:  third sentence also different.\n",
            "Leven:  41\n",
            "Max Len:  39\n",
            "The document is 100% unique\n",
            "********WELCOME TO PLAGIARISM DETECTION TOOL**********\n",
            "\n",
            "\n",
            "                      1: Sentence plagiarism checker\n",
            "                      2: Document plagiarism checker\n",
            "                      3: Download plagiarism report and Quit\n",
            "                      4: Quit!\n",
            "                      Please enter your choice: 4\n",
            "THANK YOU\n"
          ],
          "name": "stdout"
        }
      ]
    },
    {
      "cell_type": "markdown",
      "metadata": {
        "id": "qfFyxEpDzHYA"
      },
      "source": [
        "# **CASE 2:**\n",
        "## Now we will be testing two completely different sentences against each other.\n",
        "## This should result in 100% unique."
      ]
    },
    {
      "cell_type": "code",
      "metadata": {
        "colab": {
          "base_uri": "https://localhost:8080/"
        },
        "id": "SpX3jELUaayt",
        "outputId": "6468b9e7-1228-4f40-90cd-88dc9b2752df"
      },
      "source": [
        "menu()"
      ],
      "execution_count": null,
      "outputs": [
        {
          "output_type": "stream",
          "text": [
            "********WELCOME TO PLAGIARISM DETECTION TOOL**********\n",
            "\n",
            "\n",
            "                      1: Sentence plagiarism checker\n",
            "                      2: Document plagiarism checker\n",
            "                      3: Download plagiarism report and Quit\n",
            "                      4: Quit!\n",
            "                      Please enter your choice: 1\n",
            "Enter the sentence to be checked: The First sentence is about Python. The Second: about Django. You can learn Python,Django and Data Analysis here.\n",
            "Enter the sentence for comparision: The first is differenta. This second sentence is different. The third sentence is also very different.\n",
            "The document is 100% unique\n",
            "********WELCOME TO PLAGIARISM DETECTION TOOL**********\n",
            "\n",
            "\n",
            "                      1: Sentence plagiarism checker\n",
            "                      2: Document plagiarism checker\n",
            "                      3: Download plagiarism report and Quit\n",
            "                      4: Quit!\n",
            "                      Please enter your choice: 4\n",
            "THANK YOU\n"
          ],
          "name": "stdout"
        }
      ]
    },
    {
      "cell_type": "markdown",
      "metadata": {
        "id": "Ptv7eFkU0u97"
      },
      "source": [
        "# **CASE 3:**\n",
        "## Now we will be testing two sentences ,which are having some similarity ,against each other."
      ]
    },
    {
      "cell_type": "code",
      "metadata": {
        "colab": {
          "base_uri": "https://localhost:8080/"
        },
        "id": "QmaNeFuqaayu",
        "outputId": "704ff6bf-d515-48ac-b784-a11492321fe2"
      },
      "source": [
        "menu()"
      ],
      "execution_count": null,
      "outputs": [
        {
          "output_type": "stream",
          "text": [
            "********WELCOME TO PLAGIARISM DETECTION TOOL**********\n",
            "\n",
            "\n",
            "                      1: Sentence plagiarism checker\n",
            "                      2: Document plagiarism checker\n",
            "                      3: Download plagiarism report and Quit\n",
            "                      4: Quit!\n",
            "                      Please enter your choice: 1\n",
            "Enter the sentence to be checked: The First sentence is about Python. The Second: about Django. You can learn Python,Django and Data Analysis here.\n",
            "Enter the sentence for comparision: The Initial sentence is not about Java. This second sentence is different. You can learn everything about anything here.\n",
            "The document is 100% unique\n",
            "********WELCOME TO PLAGIARISM DETECTION TOOL**********\n",
            "\n",
            "\n",
            "                      1: Sentence plagiarism checker\n",
            "                      2: Document plagiarism checker\n",
            "                      3: Download plagiarism report and Quit\n",
            "                      4: Quit!\n",
            "                      Please enter your choice: 4\n",
            "THANK YOU\n"
          ],
          "name": "stdout"
        }
      ]
    },
    {
      "cell_type": "markdown",
      "metadata": {
        "id": "K7f0EMrU1ATU"
      },
      "source": [
        "# **CASE 4:**\n",
        "## Now we will be testing two sentences , in which only some words are replaced by other words of similar meaning , against each other."
      ]
    },
    {
      "cell_type": "code",
      "metadata": {
        "colab": {
          "base_uri": "https://localhost:8080/"
        },
        "id": "zZsVptlyaayw",
        "outputId": "def4fb2c-aaf9-478e-ce02-f453029a79d2"
      },
      "source": [
        "menu()"
      ],
      "execution_count": null,
      "outputs": [
        {
          "output_type": "stream",
          "text": [
            "********WELCOME TO PLAGIARISM DETECTION TOOL**********\n",
            "\n",
            "\n",
            "                      1: Sentence plagiarism checker\n",
            "                      2: Document plagiarism checker\n",
            "                      3: Download plagiarism report and Quit\n",
            "                      4: Quit!\n",
            "                      Please enter your choice: 1\n",
            "Enter the sentence to be checked: The First sentence is about Python. The Second: about Django. You can learn Python,Django and Data Analysis here.\n",
            "Enter the sentence for comparision: The Initial sentence is about Python. The Second: about Flask. You can learn Python,Django and Data manipulation here.\n",
            "Sentence 1 is plagiarised\n",
            "Sentence 3 is plagiarised\n",
            "The document has 66.66666666666666 % of plagiarism detected\n",
            "********WELCOME TO PLAGIARISM DETECTION TOOL**********\n",
            "\n",
            "\n",
            "                      1: Sentence plagiarism checker\n",
            "                      2: Document plagiarism checker\n",
            "                      3: Download plagiarism report and Quit\n",
            "                      4: Quit!\n",
            "                      Please enter your choice: 4\n",
            "THANK YOU\n"
          ],
          "name": "stdout"
        }
      ]
    },
    {
      "cell_type": "markdown",
      "metadata": {
        "id": "9F3OliYuGNjJ"
      },
      "source": [
        "## We now test two txt files in which the second one contains a paraphrased version of the contents from the first file."
      ]
    },
    {
      "cell_type": "code",
      "metadata": {
        "colab": {
          "resources": {
            "http://localhost:8080/nbextensions/google.colab/files.js": {
              "data": "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",
              "ok": true,
              "headers": [
                [
                  "content-type",
                  "application/javascript"
                ]
              ],
              "status": 200,
              "status_text": ""
            }
          },
          "base_uri": "https://localhost:8080/",
          "height": 232
        },
        "id": "CnVyL1swGjpD",
        "outputId": "657e73b3-837a-49cc-cc00-88dbdc6d61c4"
      },
      "source": [
        "menu()"
      ],
      "execution_count": null,
      "outputs": [
        {
          "output_type": "stream",
          "text": [
            "********WELCOME TO PLAGIARISM DETECTION TOOL**********\n",
            "\n",
            "\n",
            "                      1: Sentence plagiarism checker\n",
            "                      2: Document plagiarism checker\n",
            "                      3: Download plagiarism report and Quit\n",
            "                      4: Quit!\n",
            "                      Please enter your choice: 2\n",
            "Upload the first file:\n",
            "\n"
          ],
          "name": "stdout"
        },
        {
          "output_type": "display_data",
          "data": {
            "text/html": [
              "\n",
              "     <input type=\"file\" id=\"files-451d3423-cec4-4329-a6f3-22c87c1b91c0\" name=\"files[]\" multiple disabled\n",
              "        style=\"border:none\" />\n",
              "     <output id=\"result-451d3423-cec4-4329-a6f3-22c87c1b91c0\">\n",
              "      Upload widget is only available when the cell has been executed in the\n",
              "      current browser session. Please rerun this cell to enable.\n",
              "      </output>\n",
              "      <script src=\"/nbextensions/google.colab/files.js\"></script> "
            ],
            "text/plain": [
              "<IPython.core.display.HTML object>"
            ]
          },
          "metadata": {
            "tags": []
          }
        }
      ]
    },
    {
      "cell_type": "markdown",
      "metadata": {
        "id": "RIWe5-xzGjpL"
      },
      "source": [
        "## We now test two txt files in which are completely different to each other."
      ]
    },
    {
      "cell_type": "code",
      "metadata": {
        "id": "Onrv7KcxHTiu",
        "colab": {
          "resources": {
            "http://localhost:8080/nbextensions/google.colab/files.js": {
              "data": "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",
              "ok": true,
              "headers": [
                [
                  "content-type",
                  "application/javascript"
                ]
              ],
              "status": 200,
              "status_text": ""
            }
          },
          "base_uri": "https://localhost:8080/",
          "height": 499
        },
        "outputId": "9b9dd676-6107-4b1d-9922-3f2b6c419c5a"
      },
      "source": [
        "menu()"
      ],
      "execution_count": null,
      "outputs": [
        {
          "output_type": "stream",
          "text": [
            "********WELCOME TO PLAGIARISM DETECTION TOOL**********\n",
            "\n",
            "\n",
            "                      1: Sentence plagiarism checker\n",
            "                      2: Document plagiarism checker\n",
            "                      3: Download plagiarism report and Quit\n",
            "                      4: Quit!\n",
            "                      Please enter your choice: 2\n",
            "Upload the first file:\n",
            "\n"
          ],
          "name": "stdout"
        },
        {
          "output_type": "display_data",
          "data": {
            "text/html": [
              "\n",
              "     <input type=\"file\" id=\"files-3b570378-2b50-43ff-aed1-8783a9eacd71\" name=\"files[]\" multiple disabled\n",
              "        style=\"border:none\" />\n",
              "     <output id=\"result-3b570378-2b50-43ff-aed1-8783a9eacd71\">\n",
              "      Upload widget is only available when the cell has been executed in the\n",
              "      current browser session. Please rerun this cell to enable.\n",
              "      </output>\n",
              "      <script src=\"/nbextensions/google.colab/files.js\"></script> "
            ],
            "text/plain": [
              "<IPython.core.display.HTML object>"
            ]
          },
          "metadata": {
            "tags": []
          }
        },
        {
          "output_type": "stream",
          "text": [
            "Saving case_2.txt to case_2.txt\n",
            "Upload the second file:\n",
            "\n"
          ],
          "name": "stdout"
        },
        {
          "output_type": "display_data",
          "data": {
            "text/html": [
              "\n",
              "     <input type=\"file\" id=\"files-14ea826f-5e7b-47fb-b514-3a923c6070c9\" name=\"files[]\" multiple disabled\n",
              "        style=\"border:none\" />\n",
              "     <output id=\"result-14ea826f-5e7b-47fb-b514-3a923c6070c9\">\n",
              "      Upload widget is only available when the cell has been executed in the\n",
              "      current browser session. Please rerun this cell to enable.\n",
              "      </output>\n",
              "      <script src=\"/nbextensions/google.colab/files.js\"></script> "
            ],
            "text/plain": [
              "<IPython.core.display.HTML object>"
            ]
          },
          "metadata": {
            "tags": []
          }
        },
        {
          "output_type": "stream",
          "text": [
            "Saving case_3.txt to case_3.txt\n",
            "The document is 100% unique\n",
            "********WELCOME TO PLAGIARISM DETECTION TOOL**********\n",
            "\n",
            "\n",
            "                      1: Sentence plagiarism checker\n",
            "                      2: Document plagiarism checker\n",
            "                      3: Download plagiarism report and Quit\n",
            "                      4: Quit!\n",
            "                      Please enter your choice: 3\n"
          ],
          "name": "stdout"
        },
        {
          "output_type": "display_data",
          "data": {
            "application/javascript": [
              "\n",
              "    async function download(id, filename, size) {\n",
              "      if (!google.colab.kernel.accessAllowed) {\n",
              "        return;\n",
              "      }\n",
              "      const div = document.createElement('div');\n",
              "      const label = document.createElement('label');\n",
              "      label.textContent = `Downloading \"${filename}\": `;\n",
              "      div.appendChild(label);\n",
              "      const progress = document.createElement('progress');\n",
              "      progress.max = size;\n",
              "      div.appendChild(progress);\n",
              "      document.body.appendChild(div);\n",
              "\n",
              "      const buffers = [];\n",
              "      let downloaded = 0;\n",
              "\n",
              "      const channel = await google.colab.kernel.comms.open(id);\n",
              "      // Send a message to notify the kernel that we're ready.\n",
              "      channel.send({})\n",
              "\n",
              "      for await (const message of channel.messages) {\n",
              "        // Send a message to notify the kernel that we're ready.\n",
              "        channel.send({})\n",
              "        if (message.buffers) {\n",
              "          for (const buffer of message.buffers) {\n",
              "            buffers.push(buffer);\n",
              "            downloaded += buffer.byteLength;\n",
              "            progress.value = downloaded;\n",
              "          }\n",
              "        }\n",
              "      }\n",
              "      const blob = new Blob(buffers, {type: 'application/binary'});\n",
              "      const a = document.createElement('a');\n",
              "      a.href = window.URL.createObjectURL(blob);\n",
              "      a.download = filename;\n",
              "      div.appendChild(a);\n",
              "      a.click();\n",
              "      div.remove();\n",
              "    }\n",
              "  "
            ],
            "text/plain": [
              "<IPython.core.display.Javascript object>"
            ]
          },
          "metadata": {
            "tags": []
          }
        },
        {
          "output_type": "display_data",
          "data": {
            "application/javascript": [
              "download(\"download_6269c08e-7021-4c73-a956-28aa02af26f5\", \"Results.pdf\", 3991)"
            ],
            "text/plain": [
              "<IPython.core.display.Javascript object>"
            ]
          },
          "metadata": {
            "tags": []
          }
        }
      ]
    },
    {
      "cell_type": "code",
      "metadata": {
        "id": "-Nj6z52evtYW"
      },
      "source": [
        ""
      ],
      "execution_count": null,
      "outputs": []
    }
  ]
}
